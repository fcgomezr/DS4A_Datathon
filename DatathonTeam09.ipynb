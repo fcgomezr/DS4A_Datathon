{
 "cells": [
  {
   "cell_type": "markdown",
   "metadata": {},
   "source": [
    "# Datathon Team 09"
   ]
  },
  {
   "cell_type": "code",
   "execution_count": 2,
   "metadata": {},
   "outputs": [],
   "source": [
    "# Load packages\n",
    "import os\n",
    "import pandas as pd\n",
    "import numpy as np\n",
    "#import pandas_profiling\n",
    "\n",
    "#Use of maps:\n",
    "import folium\n",
    "\n",
    "# This line is needed to display plots inline in Jupyter Notebook\n",
    "%matplotlib inline\n",
    "\n",
    "# Required for basic python plotting functionality\n",
    "import matplotlib.pyplot as plt\n",
    "\n",
    "# Required for formatting dates later in the case\n",
    "import datetime\n",
    "import matplotlib.dates as mdates\n",
    "\n",
    "# Required to display image inline\n",
    "from IPython.display import Image\n",
    "\n",
    "# Advanced plotting functionality with seaborn\n",
    "import seaborn as sns\n",
    "sns.set(style=\"whitegrid\") # can set style depending on how you'd like it to look"
   ]
  },
  {
   "cell_type": "code",
   "execution_count": null,
   "metadata": {},
   "outputs": [],
   "source": [
    "# Load the data into python\n",
    "demographics_file = os.path.join(os.getcwd(),'demographics.csv')        \n",
    "geographic_file = os.path.join(os.getcwd(),'geographic.csv')\n",
    "green_trips_file = os.path.join(os.getcwd(),'green_trips_new_2.csv')\n",
    "mta_trips_file = os.path.join(os.getcwd(),'mta_trips.csv')        \n",
    "uber_trips_2014_file = os.path.join(os.getcwd(),'uber_trips_2014.csv')\n",
    "uber_trips_2015_file = os.path.join(os.getcwd(),'uber_trips_2015.csv')\n",
    "weather_file = os.path.join(os.getcwd(),'weather.csv')\n",
    "yellow_trips_new_file = os.path.join(os.getcwd(),'yellow_trips_new.csv')\n",
    "zones_file = os.path.join(os.getcwd(),'zones.csv')"
   ]
  },
  {
   "cell_type": "code",
   "execution_count": null,
   "metadata": {},
   "outputs": [],
   "source": [
    "print(zones_file)"
   ]
  },
  {
   "cell_type": "code",
   "execution_count": null,
   "metadata": {},
   "outputs": [],
   "source": [
    "# Generate Data frames\n",
    "demographics_df = pd.read_csv(demographics_file)\n",
    "geographic_df = pd.read_csv(geographic_file)\n",
    "green_trips_df = pd.read_csv(green_trips_file)\n",
    "mta_trips_df = pd.read_csv(mta_trips_file)\n",
    "uber_trips_2014_df = pd.read_csv(uber_trips_2014_file)\n",
    "uber_trips_2015_df = pd.read_csv(uber_trips_2015_file)\n",
    "weather_df = pd.read_csv(weather_file)\n",
    "yellow_trips_df = pd.read_csv(yellow_trips_new_file)\n",
    "zones_df = pd.read_csv(zones_file)"
   ]
  },
  {
   "cell_type": "code",
   "execution_count": null,
   "metadata": {},
   "outputs": [],
   "source": [
    "# Data Profile\n",
    "demographicsProfile = pandas_profiling.ProfileReport(demographics_df)\n",
    "demographicsProfile.to_file(outputfile=\"./demographicsProfile.html\")\n",
    "\n",
    "geographicProfile = pandas_profiling.ProfileReport(geographic_df)\n",
    "geographicProfile.to_file(outputfile=\"./dgeographicProfile.html\")\n",
    "\n",
    "green_tripsProfile = pandas_profiling.ProfileReport(green_trips_df)\n",
    "green_tripsProfile.to_file(outputfile=\"./green_tripsProfile.html\")\n",
    "\n",
    "mta_tripsProfile = pandas_profiling.ProfileReport(mta_trips_df)\n",
    "mta_tripsProfile.to_file(outputfile=\"./mta_tripsProfile.html\")\n",
    "\n",
    "uber_trips_2014Profile = pandas_profiling.ProfileReport(uber_trips_2014_df)\n",
    "uber_trips_2014Profile.to_file(outputfile=\"./uber_trips_2014Profile.html\")\n",
    "\n",
    "uber_trips_2015Profile = pandas_profiling.ProfileReport(uber_trips_2015_df)\n",
    "uber_trips_2015Profile.to_file(outputfile=\"./uber_trips_2015Profile.html\")\n",
    "\n",
    "weatherProfile = pandas_profiling.ProfileReport(weather_df)\n",
    "weatherProfile.to_file(outputfile=\"./weatherProfile.html\")\n",
    "\n",
    "yellow_tripsProfile = pandas_profiling.ProfileReport(yellow_trips_df)\n",
    "yellow_tripsProfile.to_file(outputfile=\"./yellow_tripsProfile.html\")\n",
    "\n",
    "zonesProfile = pandas_profiling.ProfileReport(zones_df)\n",
    "zonesProfile.to_file(outputfile=\"./zonesProfile.html\")"
   ]
  },
  {
   "cell_type": "markdown",
   "metadata": {},
   "source": [
    "# Geographic Dataset."
   ]
  },
  {
   "cell_type": "code",
   "execution_count": null,
   "metadata": {},
   "outputs": [],
   "source": [
    "data_foder = 'Data'\n",
    "geographic_file = os.path.join(os.getcwd(),data_foder,'geographic.csv')\n",
    "geographic_file"
   ]
  },
  {
   "cell_type": "code",
   "execution_count": null,
   "metadata": {},
   "outputs": [],
   "source": [
    "geo = pd.read_csv(geographic_file)\n",
    "geo.columns"
   ]
  },
  {
   "cell_type": "markdown",
   "metadata": {},
   "source": [
    "# Green Taxis Dataset."
   ]
  },
  {
   "cell_type": "code",
   "execution_count": 2,
   "metadata": {},
   "outputs": [
    {
     "data": {
      "text/plain": [
       "Index(['pickup_datetime', 'dropoff_datetime', 'pickup_longitude',\n",
       "       'pickup_latitude', 'dropoff_longitude', 'dropoff_latitude',\n",
       "       'passenger_count', 'trip_distance', 'total_amount'],\n",
       "      dtype='object')"
      ]
     },
     "execution_count": 2,
     "metadata": {},
     "output_type": "execute_result"
    }
   ],
   "source": [
    "#Test created by Armando Escobar\n",
    "df_greenCap = pd.read_csv('./data/green_trips_new_2.csv')\n",
    "df_greenCap.columns"
   ]
  },
  {
   "cell_type": "code",
   "execution_count": null,
   "metadata": {},
   "outputs": [],
   "source": []
  }
 ],
 "metadata": {
  "kernelspec": {
   "display_name": "Python 3",
   "language": "python",
   "name": "python3"
  },
  "language_info": {
   "codemirror_mode": {
    "name": "ipython",
    "version": 3
   },
   "file_extension": ".py",
   "mimetype": "text/x-python",
   "name": "python",
   "nbconvert_exporter": "python",
   "pygments_lexer": "ipython3",
   "version": "3.7.3"
  }
 },
 "nbformat": 4,
 "nbformat_minor": 4
}
